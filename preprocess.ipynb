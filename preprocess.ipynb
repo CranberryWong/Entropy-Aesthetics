{
 "cells": [
  {
   "cell_type": "code",
   "execution_count": 1,
   "metadata": {},
   "outputs": [],
   "source": [
    "# This note is for image resize and format converting\n",
    "\n",
    "from PIL import Image"
   ]
  },
  {
   "cell_type": "code",
   "execution_count": 14,
   "metadata": {},
   "outputs": [],
   "source": [
    "prefix = \"file:///Users/chenwang/Documents/Manuscript/Entropy_Aesthetic/Aesthetic/source/\"\n",
    "\n",
    "#title = \"theboneandjointcenter.com\"\n",
    "\n",
    "windowWidth = 1900\n",
    "windowHeight = 900"
   ]
  },
  {
   "cell_type": "code",
   "execution_count": 15,
   "metadata": {},
   "outputs": [],
   "source": [
    "infiles = [\n",
    "#'999*ted.com',\n",
    "'0*theboneandjointcenter.com',\n",
    "'1*mozilla.org',\n",
    "'2*two-n.com',\n",
    "'3*segmentfault.com',\n",
    "'4*makeitok.org',\n",
    "'5*disney.co.jp',\n",
    "'6*wikipedia.org',\n",
    "'7*news.yahoo.co.jp',\n",
    "'8*huxiu.com',\n",
    "'9*fangdd.com',\n",
    "'10*cheshi.com',\n",
    "'11*humblebundle.com',\n",
    "'12*theatlantic.com',\n",
    "'13*superprof.fr',\n",
    "'14*microsoft.com',\n",
    "'15*opera.com',\n",
    "'16*labinthewild.org',\n",
    "'17*nounplus.net',\n",
    "'18*richyli.com',\n",
    "'19*pxtoem.com', \n",
    "'20*goofy.photo',\n",
    "'21*javadrive.jp',\n",
    "'22*jcodecraeer.com',\n",
    "'23*hdpfans.com',\n",
    "'24*jiqimao.tv',\n",
    "'25*clamav.net',\n",
    "'26*bootcdn.cn',\n",
    "'27*runoob.com',\n",
    "'28*tensorfly.cn',\n",
    "'29*journaldugeek.com', \n",
    "'30*matetranslate.com',\n",
    "'31*kameisyouten.ocnk.net',\n",
    "'32*gingerweb.jp',\n",
    "'33*cp.pocky.jp',\n",
    "'34*aladdin-aic.com',\n",
    "'35*ho-ginza.net',\n",
    "'36*pandayori.com',\n",
    "'37*sekimoto.dental',\n",
    "'38*kokage-m.com',\n",
    "'39*coming-saji.com',\n",
    "'40*bluewood.bitter.jp',\n",
    "'41*steakland.jp',\n",
    "'42*showroomprive.com',\n",
    "'43*imas-cg.net',\n",
    "'44*filetender.com',\n",
    "'45*hexo.io',\n",
    "'46*yinwang.org',\n",
    "'47*blog.yitianshijie.net',\n",
    "'48*yatani.jp',\n",
    "'49*qiita.com',\n",
    "'50*52nlp.cn',\n",
    "'51*guidetojapanese.org',\n",
    "'52*olderadults.mobi',\n",
    "'53*blog.whatsapp.com',\n",
    "'54*stratechery.com',\n",
    "'55*lomake.fi',\n",
    "'56*theclinic.cl',\n",
    "'57*bgmaimuna.com',\n",
    "'58*0dt.net',\n",
    "'59*web.ics.purdue.edu',\n",
    "'60*canon-foundation.jp',\n",
    "'61*docs.opencv.org',\n",
    "'62*interaction-design.org',\n",
    "'63*jlpt.jp',\n",
    "'64*blog.sciencenet.cn',\n",
    "'65*pantone.com',\n",
    "'66*sdtech.co.jp',\n",
    "'67*news.livedoor.com',\n",
    "'68*gmo.jp',\n",
    "'69*tokai-tv.com', \n",
    "'70*life-is-tech.com',\n",
    "'71*bloomberg.co.jp',\n",
    "'72*cerezo.jp',\n",
    "'73*tech.nikkeibp.co.jp',\n",
    "'74*jp.techcrunch.com',\n",
    "'75*capcom.co.jp',\n",
    "'76*kenkun-jinja.org',\n",
    "'77*sankei.com',\n",
    "'78*tech-jp.co.jp',\n",
    "'79*tech-camp.in',\n",
    "'80*hasegawa-heart.com',\n",
    "'81*techplay.jp',\n",
    "'82*ubejinja.or.jp',\n",
    "'83*19lou.com',\n",
    "'84*jiankang.com',\n",
    "'85*cps.com.cn',\n",
    "'86*hea.cn',\n",
    "'87*jfc.or.jp',\n",
    "'88*trafst.jp',\n",
    "'89*infoq.com',\n",
    "'90*secure.j-bus.co.jp',\n",
    "'91*jcr.incites.thomsonreuters.com',\n",
    "'92*dna.fr',\n",
    "'93*macg.co',\n",
    "'94*cvpr2018.thecvf.com',\n",
    "'95*chi2019.acm.org',\n",
    "'96*swellnet.com',\n",
    "'97*klex.ru',\n",
    "'98*kudago.com',\n",
    "'99*theborneopost.com'\n",
    "]"
   ]
  },
  {
   "cell_type": "code",
   "execution_count": 16,
   "metadata": {},
   "outputs": [],
   "source": [
    "def imageResize(image):\n",
    "    im = Image.open(image)\n",
    "    im = im.resize((windowWidth,windowHeight))\n",
    "    im.save(image)"
   ]
  },
  {
   "cell_type": "code",
   "execution_count": 17,
   "metadata": {},
   "outputs": [],
   "source": [
    "def png2jpg(image):\n",
    "    im = Image.open(image)\n",
    "    im = im.convert('RGB').save(\"webpagesJ/\"+ title + \".jpg\",\"JPEG\")"
   ]
  },
  {
   "cell_type": "code",
   "execution_count": 18,
   "metadata": {},
   "outputs": [
    {
     "name": "stdout",
     "output_type": "stream",
     "text": [
      "done\n"
     ]
    }
   ],
   "source": [
    "for i in infiles:\n",
    "    no, title = i.split('*')\n",
    "    # imageStandardization('webpages/'+ title +'.png')\n",
    "    png2jpg('webpages/'+ title +'.png')\n",
    "print('done')"
   ]
  },
  {
   "cell_type": "code",
   "execution_count": 7,
   "metadata": {},
   "outputs": [
    {
     "ename": "FileNotFoundError",
     "evalue": "[Errno 2] No such file or directory: 'avi14dataset/141.png'",
     "output_type": "error",
     "traceback": [
      "\u001b[0;31m-------------------------------------------------------------------\u001b[0m",
      "\u001b[0;31mFileNotFoundError\u001b[0m                 Traceback (most recent call last)",
      "\u001b[0;32m<ipython-input-7-ab426ab949ec>\u001b[0m in \u001b[0;36m<module>\u001b[0;34m()\u001b[0m\n\u001b[1;32m      3\u001b[0m \u001b[0;34m\u001b[0m\u001b[0m\n\u001b[1;32m      4\u001b[0m \u001b[0;32mfor\u001b[0m \u001b[0mi\u001b[0m \u001b[0;32min\u001b[0m \u001b[0mrange\u001b[0m\u001b[0;34m(\u001b[0m\u001b[0;36m1\u001b[0m\u001b[0;34m,\u001b[0m\u001b[0;36m143\u001b[0m\u001b[0;34m)\u001b[0m\u001b[0;34m:\u001b[0m\u001b[0;34m\u001b[0m\u001b[0m\n\u001b[0;32m----> 5\u001b[0;31m     \u001b[0mim\u001b[0m \u001b[0;34m=\u001b[0m \u001b[0mImage\u001b[0m\u001b[0;34m.\u001b[0m\u001b[0mopen\u001b[0m\u001b[0;34m(\u001b[0m\u001b[0mfolder_path\u001b[0m \u001b[0;34m+\u001b[0m \u001b[0mstr\u001b[0m\u001b[0;34m(\u001b[0m\u001b[0mi\u001b[0m\u001b[0;34m)\u001b[0m \u001b[0;34m+\u001b[0m \u001b[0;34m'.png'\u001b[0m\u001b[0;34m)\u001b[0m\u001b[0;34m\u001b[0m\u001b[0m\n\u001b[0m\u001b[1;32m      6\u001b[0m     \u001b[0mim\u001b[0m \u001b[0;34m=\u001b[0m \u001b[0mim\u001b[0m\u001b[0;34m.\u001b[0m\u001b[0mresize\u001b[0m\u001b[0;34m(\u001b[0m\u001b[0;34m(\u001b[0m\u001b[0;36m1280\u001b[0m\u001b[0;34m,\u001b[0m\u001b[0;36m800\u001b[0m\u001b[0;34m)\u001b[0m\u001b[0;34m)\u001b[0m\u001b[0;34m\u001b[0m\u001b[0m\n\u001b[1;32m      7\u001b[0m     \u001b[0mim\u001b[0m\u001b[0;34m.\u001b[0m\u001b[0msave\u001b[0m\u001b[0;34m(\u001b[0m\u001b[0mfolder_path\u001b[0m \u001b[0;34m+\u001b[0m \u001b[0mstr\u001b[0m\u001b[0;34m(\u001b[0m\u001b[0mi\u001b[0m\u001b[0;34m)\u001b[0m \u001b[0;34m+\u001b[0m \u001b[0;34m'.png'\u001b[0m\u001b[0;34m)\u001b[0m\u001b[0;34m\u001b[0m\u001b[0m\n",
      "\u001b[0;32m/usr/local/Cellar/python3/3.6.3/Frameworks/Python.framework/Versions/3.6/lib/python3.6/site-packages/PIL/Image.py\u001b[0m in \u001b[0;36mopen\u001b[0;34m(fp, mode)\u001b[0m\n\u001b[1;32m   2632\u001b[0m \u001b[0;34m\u001b[0m\u001b[0m\n\u001b[1;32m   2633\u001b[0m     \u001b[0;32mif\u001b[0m \u001b[0mfilename\u001b[0m\u001b[0;34m:\u001b[0m\u001b[0;34m\u001b[0m\u001b[0m\n\u001b[0;32m-> 2634\u001b[0;31m         \u001b[0mfp\u001b[0m \u001b[0;34m=\u001b[0m \u001b[0mbuiltins\u001b[0m\u001b[0;34m.\u001b[0m\u001b[0mopen\u001b[0m\u001b[0;34m(\u001b[0m\u001b[0mfilename\u001b[0m\u001b[0;34m,\u001b[0m \u001b[0;34m\"rb\"\u001b[0m\u001b[0;34m)\u001b[0m\u001b[0;34m\u001b[0m\u001b[0m\n\u001b[0m\u001b[1;32m   2635\u001b[0m         \u001b[0mexclusive_fp\u001b[0m \u001b[0;34m=\u001b[0m \u001b[0;32mTrue\u001b[0m\u001b[0;34m\u001b[0m\u001b[0m\n\u001b[1;32m   2636\u001b[0m \u001b[0;34m\u001b[0m\u001b[0m\n",
      "\u001b[0;31mFileNotFoundError\u001b[0m: [Errno 2] No such file or directory: 'avi14dataset/141.png'"
     ]
    }
   ],
   "source": [
    "# Process Aliaksei Data\n",
    "folder_path = 'webpages-am/'\n",
    "\n",
    "for i in range(1,141):\n",
    "    im = Image.open(folder_path + str(i) + '.png')\n",
    "    im = im.resize((1280,800))\n",
    "    im.save(folder_path + str(i) + '.png')\n",
    "    \n",
    "print(\"finished\")"
   ]
  },
  {
   "cell_type": "code",
   "execution_count": null,
   "metadata": {},
   "outputs": [],
   "source": []
  }
 ],
 "metadata": {
  "kernelspec": {
   "display_name": "Python 3",
   "language": "python",
   "name": "python3"
  },
  "language_info": {
   "codemirror_mode": {
    "name": "ipython",
    "version": 3
   },
   "file_extension": ".py",
   "mimetype": "text/x-python",
   "name": "python",
   "nbconvert_exporter": "python",
   "pygments_lexer": "ipython3",
   "version": "3.6.3"
  }
 },
 "nbformat": 4,
 "nbformat_minor": 2
}
